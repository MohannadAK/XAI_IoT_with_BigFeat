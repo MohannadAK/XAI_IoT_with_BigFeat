{
 "cells": [
  {
   "cell_type": "code",
   "metadata": {
    "ExecuteTime": {
     "end_time": "2025-04-25T14:18:42.988958Z",
     "start_time": "2025-04-25T14:18:42.632595Z"
    }
   },
   "source": [
    "import pandas as pd\n",
    "import lime\n",
    "import lime.lime_tabular\n",
    "import matplotlib.pyplot as plt\n",
    "from sklearn.ensemble import RandomForestClassifier\n",
    "import numpy as np\n",
    "\n",
    "# Load your dataset\n",
    "dataset = pd.read_csv('mems_dataset.csv')\n",
    "\n",
    "# Split the dataset into features (X) and labels (y)\n",
    "X = dataset[['x', 'y', 'z']]\n",
    "y = dataset['label']\n",
    "\n",
    "# Create and train a RandomForestClassifier\n",
    "your_classifier = RandomForestClassifier()\n",
    "your_classifier.fit(X, y)\n",
    "\n",
    "# Define a custom LimeTabularExplainer with feature_names\n",
    "class CustomLimeTabularExplainer(lime.lime_tabular.LimeTabularExplainer):\n",
    "    def __init__(self, training_data, mode=\"classification\"):\n",
    "        super().__init__(training_data, mode=mode, training_labels=None)\n",
    "        self.feature_names = ['x', 'y', 'z']  # Set the feature names explicitly\n",
    "\n",
    "# Create a custom LIME explainer\n",
    "explainer = CustomLimeTabularExplainer(X.values, mode=\"classification\")\n",
    "\n",
    "# Initialize lists to store sample indices for each label\n",
    "sample_indices = []\n",
    "\n",
    "# Loop over unique labels (1, 2, 3)\n",
    "for label in [1, 2, 3]:\n",
    "    # Get indices of samples with the current label\n",
    "    label_indices = np.where(y == label)[0]\n",
    "    \n",
    "    # Take one sample with the current label (if available)\n",
    "    if len(label_indices) > 0:\n",
    "        sample_index = label_indices[0]\n",
    "        sample_indices.append(sample_index)\n",
    "\n",
    "# Explain predictions for the selected samples\n",
    "for sample_index in sample_indices:\n",
    "    test_instance = X.iloc[sample_index]\n",
    "    \n",
    "    \n",
    "    # Generate explanations\n",
    "    # explanation = explainer.explain_instance(\n",
    "    #     test_instance.values,\n",
    "    #     your_classifier.predict_proba,  # Use predict_proba for classification\n",
    "    #     num_features=len(X.columns),\n",
    "    #     # feature_names = list(X.columns.values)\n",
    "    # )\n",
    "\n",
    "    explainer = lime.lime_tabular.LimeTabularExplainer(X.to_numpy(),feature_names = list(X.columns.values), discretize_continuous=True)\n",
    "\n",
    "#  explainer = lime.lime_tabular.LimeTabularExplainer(X.to_numpy(),feature_names = list(X.columns.values),class_names= y.values, discretize_continuous=True)\n",
    "\n",
    "    exp = explainer.explain_instance(test_instance, your_classifier.predict_proba, num_features=3, top_labels=3)\n",
    "\n",
    "    exp.show_in_notebook(show_table=True, show_all=True)\n",
    "    \n",
    "\n",
    "    #lime list to string\n",
    "\n",
    "    lime_list = exp.as_list()\n",
    "\n",
    "    lime_list.sort()\n",
    "\n",
    "    plt.show()\n",
    "    \n",
    "    # Get feature importance from LIME explanation\n",
    "    # feature_importance = explainer.as_list()\n",
    "    \n",
    "    # Save feature importance as a figure (e.g., a bar chart)\n",
    "    # features, importance_scores = zip(*feature_importance)\n",
    "    # plt.figure(figsize=(8, 6))\n",
    "    # plt.barh(features, importance_scores)\n",
    "    # plt.xlabel('Importance')\n",
    "    # plt.ylabel('Features')\n",
    "    # plt.title(f'Feature Importance from LIME (Label {y.iloc[sample_index]})')\n",
    "    # plt.savefig(f'lime_feature_importance_label_{y.iloc[sample_index]}_sample_{sample_index}.jpg')\n",
    "    \n",
    "    # Save the explanation figure as a JPG\n",
    "    # explanation_fig = explanation.as_pyplot_figure()\n",
    "    # explanation_fig.savefig(f'lime_explanation_label_{y.iloc[sample_index]}_sample_{sample_index}.jpg')\n"
   ],
   "outputs": [
    {
     "ename": "ModuleNotFoundError",
     "evalue": "No module named 'pandas'",
     "output_type": "error",
     "traceback": [
      "\u001B[31m---------------------------------------------------------------------------\u001B[39m",
      "\u001B[31mModuleNotFoundError\u001B[39m                       Traceback (most recent call last)",
      "\u001B[36mCell\u001B[39m\u001B[36m \u001B[39m\u001B[32mIn[1]\u001B[39m\u001B[32m, line 1\u001B[39m\n\u001B[32m----> \u001B[39m\u001B[32m1\u001B[39m \u001B[38;5;28;01mimport\u001B[39;00m\u001B[38;5;250m \u001B[39m\u001B[34;01mpandas\u001B[39;00m\u001B[38;5;250m \u001B[39m\u001B[38;5;28;01mas\u001B[39;00m\u001B[38;5;250m \u001B[39m\u001B[34;01mpd\u001B[39;00m\n\u001B[32m      2\u001B[39m \u001B[38;5;28;01mimport\u001B[39;00m\u001B[38;5;250m \u001B[39m\u001B[34;01mlime\u001B[39;00m\n\u001B[32m      3\u001B[39m \u001B[38;5;28;01mimport\u001B[39;00m\u001B[38;5;250m \u001B[39m\u001B[34;01mlime\u001B[39;00m\u001B[34;01m.\u001B[39;00m\u001B[34;01mlime_tabular\u001B[39;00m\n",
      "\u001B[31mModuleNotFoundError\u001B[39m: No module named 'pandas'"
     ]
    }
   ],
   "execution_count": 1
  },
  {
   "cell_type": "code",
   "execution_count": null,
   "metadata": {},
   "outputs": [],
   "source": []
  },
  {
   "cell_type": "code",
   "metadata": {
    "ExecuteTime": {
     "end_time": "2025-04-25T14:19:40.062659Z",
     "start_time": "2025-04-25T14:18:56.749479Z"
    }
   },
   "source": [
    "pip install lime"
   ],
   "outputs": [
    {
     "name": "stdout",
     "output_type": "stream",
     "text": [
      "^C\n",
      "Note: you may need to restart the kernel to use updated packages.\n"
     ]
    }
   ],
   "execution_count": 2
  }
 ],
 "metadata": {
  "kernelspec": {
   "display_name": "Python 3",
   "language": "python",
   "name": "python3"
  },
  "language_info": {
   "codemirror_mode": {
    "name": "ipython",
    "version": 3
   },
   "file_extension": ".py",
   "mimetype": "text/x-python",
   "name": "python",
   "nbconvert_exporter": "python",
   "pygments_lexer": "ipython3",
   "version": "3.6.15"
  },
  "orig_nbformat": 4
 },
 "nbformat": 4,
 "nbformat_minor": 2
}
