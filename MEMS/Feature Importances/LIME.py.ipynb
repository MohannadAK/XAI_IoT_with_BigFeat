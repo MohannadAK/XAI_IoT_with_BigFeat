{
 "cells": [
  {
   "cell_type": "code",
   "metadata": {
    "ExecuteTime": {
     "end_time": "2025-05-14T20:19:16.694623Z",
     "start_time": "2025-05-14T20:19:14.353475Z"
    }
   },
   "source": [
    "import pandas as pd\n",
    "import lime\n",
    "import lime.lime_tabular\n",
    "import matplotlib.pyplot as plt\n",
    "from sklearn.ensemble import RandomForestClassifier\n",
    "import numpy as np\n",
    "\n",
    "# Load dataset\n",
    "dataset = pd.read_csv('../../Datasets/mems_dataset.csv')\n",
    "X = dataset[['x', 'y', 'z']]\n",
    "y = dataset['label']\n",
    "\n",
    "# Train classifier\n",
    "your_classifier = RandomForestClassifier()\n",
    "your_classifier.fit(X, y)\n",
    "\n",
    "# Create LIME explainer\n",
    "explainer = lime.lime_tabular.LimeTabularExplainer(\n",
    "    X.to_numpy(),\n",
    "    feature_names=list(X.columns.values),\n",
    "    discretize_continuous=True\n",
    ")\n",
    "\n",
    "# Select one sample per label\n",
    "sample_indices = [np.where(y == label)[0][0] for label in [1, 2, 3] if len(np.where(y == label)[0]) > 0]\n",
    "\n",
    "# Explain predictions\n",
    "for sample_index in sample_indices:\n",
    "    test_instance = X.iloc[sample_index]\n",
    "\n",
    "    # Generate explanation\n",
    "    exp = explainer.explain_instance(\n",
    "        test_instance.to_numpy(),\n",
    "        your_classifier.predict_proba,\n",
    "        num_features=3,\n",
    "        top_labels=3\n",
    "    )\n",
    "\n",
    "    # Save explanation as HTML\n",
    "    html_content = exp.as_html(show_table=True, show_all=True)\n",
    "    with open(f'lime_explanation_label_{y.iloc[sample_index]}_sample_{sample_index}.html', 'w') as f:\n",
    "        f.write(html_content)\n",
    "\n",
    "    # Save explanation as image\n",
    "    fig = exp.as_pyplot_figure()\n",
    "    fig.savefig(f'lime_explanation_label_{y.iloc[sample_index]}_sample_{sample_index}.png')\n",
    "    plt.close(fig)\n",
    "\n",
    "    # Get and sort LIME feature importance\n",
    "    lime_list = exp.as_list()\n",
    "    lime_list.sort()\n",
    "    print(f\"Label {y.iloc[sample_index]} LIME explanation: {lime_list}\")"
   ],
   "outputs": [
    {
     "name": "stderr",
     "output_type": "stream",
     "text": [
      "/home/victoryst/projects/XAI_IoT_with_BigFeat/.venv/lib/python3.13/site-packages/sklearn/utils/validation.py:2739: UserWarning: X does not have valid feature names, but RandomForestClassifier was fitted with feature names\n",
      "  warnings.warn(\n"
     ]
    },
    {
     "name": "stdout",
     "output_type": "stream",
     "text": [
      "Label 1 LIME explanation: [('x > 10.05', 0.1698724010554644), ('y > 0.10', -0.09667702543252744), ('z <= 0.12', -0.4286265487574078)]\n",
      "Label 2 LIME explanation: [('0.04 < y <= 0.07', 0.004381387165424319), ('0.24 < z <= 0.38', 0.1103856533200422), ('9.99 < x <= 10.05', 0.07659617404448714)]\n"
     ]
    },
    {
     "name": "stderr",
     "output_type": "stream",
     "text": [
      "/home/victoryst/projects/XAI_IoT_with_BigFeat/.venv/lib/python3.13/site-packages/sklearn/utils/validation.py:2739: UserWarning: X does not have valid feature names, but RandomForestClassifier was fitted with feature names\n",
      "  warnings.warn(\n",
      "/home/victoryst/projects/XAI_IoT_with_BigFeat/.venv/lib/python3.13/site-packages/sklearn/utils/validation.py:2739: UserWarning: X does not have valid feature names, but RandomForestClassifier was fitted with feature names\n",
      "  warnings.warn(\n"
     ]
    },
    {
     "name": "stdout",
     "output_type": "stream",
     "text": [
      "Label 3 LIME explanation: [('0.12 < z <= 0.24', -0.34409839441973405), ('x <= 9.92', -0.17632683194841473), ('y > 0.10', -0.09294100658573481)]\n"
     ]
    }
   ],
   "execution_count": 4
  },
  {
   "cell_type": "code",
   "metadata": {
    "ExecuteTime": {
     "end_time": "2025-05-14T20:19:16.710644Z",
     "start_time": "2025-05-14T20:19:16.709035Z"
    }
   },
   "source": [],
   "outputs": [],
   "execution_count": null
  },
  {
   "cell_type": "code",
   "metadata": {
    "ExecuteTime": {
     "end_time": "2025-05-14T20:19:16.762390Z",
     "start_time": "2025-05-14T20:19:16.760305Z"
    }
   },
   "source": "# pip install lime",
   "outputs": [],
   "execution_count": 5
  }
 ],
 "metadata": {
  "kernelspec": {
   "display_name": "Python 3",
   "language": "python",
   "name": "python3"
  },
  "language_info": {
   "codemirror_mode": {
    "name": "ipython",
    "version": 3
   },
   "file_extension": ".py",
   "mimetype": "text/x-python",
   "name": "python",
   "nbconvert_exporter": "python",
   "pygments_lexer": "ipython3",
   "version": "3.6.15"
  },
  "orig_nbformat": 4
 },
 "nbformat": 4,
 "nbformat_minor": 2
}
